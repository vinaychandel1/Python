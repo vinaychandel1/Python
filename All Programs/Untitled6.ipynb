{
  "nbformat": 4,
  "nbformat_minor": 0,
  "metadata": {
    "colab": {
      "name": "Untitled6.ipynb",
      "provenance": []
    },
    "kernelspec": {
      "name": "python3",
      "display_name": "Python 3"
    }
  },
  "cells": [
    {
      "cell_type": "code",
      "metadata": {
        "colab": {
          "base_uri": "https://localhost:8080/"
        },
        "id": "LcFfKPw3pgPF",
        "outputId": "022673f3-d273-4d1a-95e1-eab4727d0c3c"
      },
      "source": [
        "num = int(input(\"Enter a number: \"))  \r\n",
        "factorial = 1  \r\n",
        "if num < 0:  \r\n",
        "   print(\"Sorry, factorial does not exist for negative numbers\")  \r\n",
        "elif (num == 0):\r\n",
        "   print(\"The factorial of 0 is 1\") \r\n",
        "else:  \r\n",
        "   for i in range(1,num + 1):  \r\n",
        "       factorial = factorial*i  \r\n",
        "   print(\"The factorial of\",num,\"is\",factorial) "
      ],
      "execution_count": null,
      "outputs": [
        {
          "output_type": "stream",
          "text": [
            "Enter a number: 7\n",
            "The factorial of 7 is 5040\n"
          ],
          "name": "stdout"
        }
      ]
    },
    {
      "cell_type": "code",
      "metadata": {
        "colab": {
          "base_uri": "https://localhost:8080/"
        },
        "id": "OOWnwWehcGmb",
        "outputId": "1d5fe811-2366-46be-ae9c-e64d686af83a"
      },
      "source": [
        "def factorial(n): \r\n",
        "      \r\n",
        "    # single line to find factorial \r\n",
        "    return 1 if (n==1 or n==0) else n * factorial(n - 1);  \r\n",
        "  \r\n",
        "# Driver Code \r\n",
        "num = 5; \r\n",
        "print(\"Factorial of\",num,\"is\", \r\n",
        "factorial(num))"
      ],
      "execution_count": null,
      "outputs": [
        {
          "output_type": "stream",
          "text": [
            "Factorial of 5 is 120\n"
          ],
          "name": "stdout"
        }
      ]
    },
    {
      "cell_type": "code",
      "metadata": {
        "colab": {
          "base_uri": "https://localhost:8080/"
        },
        "id": "p0RZNwanq4pQ",
        "outputId": "11f5c2af-3271-4742-8113-25221fe0753e"
      },
      "source": [
        "num = int(input(\"Enter a number: \"))  \r\n",
        "prev=0 \r\n",
        "curr =1\r\n",
        "for i in range(0,num):\r\n",
        "  print(prev)\r\n",
        "  new = prev+curr\r\n",
        "  prev=curr\r\n",
        "  curr=new\r\n",
        "  i=i+1\r\n",
        "     "
      ],
      "execution_count": null,
      "outputs": [
        {
          "output_type": "stream",
          "text": [
            "Enter a number: 5\n",
            "0\n",
            "1\n",
            "1\n",
            "2\n",
            "3\n"
          ],
          "name": "stdout"
        }
      ]
    },
    {
      "cell_type": "code",
      "metadata": {
        "colab": {
          "base_uri": "https://localhost:8080/"
        },
        "id": "OtBtU47DX_lz",
        "outputId": "ab0b9123-4eb8-48f7-bd03-ac3d326f055f"
      },
      "source": [
        "def Fibonacci(n): \r\n",
        "    if n<0: \r\n",
        "        print(\"Incorrect input\") \r\n",
        "    # First Fibonacci number is 0 \r\n",
        "    elif n==1: \r\n",
        "        return 0\r\n",
        "    # Second Fibonacci number is 1 \r\n",
        "    elif n==2: \r\n",
        "        return 1\r\n",
        "    else: \r\n",
        "        return Fibonacci(n-1)+Fibonacci(n-2) \r\n",
        "  \r\n",
        "# Driver Program \r\n",
        "  \r\n",
        "print(Fibonacci(9)) "
      ],
      "execution_count": null,
      "outputs": [
        {
          "output_type": "stream",
          "text": [
            "21\n"
          ],
          "name": "stdout"
        }
      ]
    },
    {
      "cell_type": "code",
      "metadata": {
        "colab": {
          "base_uri": "https://localhost:8080/"
        },
        "id": "hat-ANhbbLIR",
        "outputId": "50db8051-c087-40e9-8b20-7ddb0e31d302"
      },
      "source": [
        "def compound_interest(principle, rate, time): \r\n",
        "  \r\n",
        "    # Calculates compound interest  \r\n",
        "    Amount = principle * (pow((1 + rate / 100), time)) \r\n",
        "    CI = Amount - principle \r\n",
        "    print(\"Compound interest is\", CI) \r\n",
        "  \r\n",
        "# Driver Code  \r\n",
        "compound_interest(10000, 10.25, 5)"
      ],
      "execution_count": null,
      "outputs": [
        {
          "output_type": "stream",
          "text": [
            "Compound interest is 6288.946267774416\n"
          ],
          "name": "stdout"
        }
      ]
    },
    {
      "cell_type": "code",
      "metadata": {
        "colab": {
          "base_uri": "https://localhost:8080/"
        },
        "id": "-YJnfSyCenNj",
        "outputId": "3c0445c1-d157-4a11-8b3c-280beec8b664"
      },
      "source": [
        "import math \r\n",
        "  \r\n",
        "# A utility function that returns true if x is perfect square \r\n",
        "def isPerfectSquare(x): \r\n",
        "    s = int(math.sqrt(x)) \r\n",
        "    return s*s == x \r\n",
        "  \r\n",
        "# Returns true if n is a Fibinacci Number, else false \r\n",
        "def isFibonacci(n): \r\n",
        "  \r\n",
        "    # n is Fibinacci if one of 5*n*n + 4 or 5*n*n - 4 or both \r\n",
        "    # is a perferct square \r\n",
        "    return isPerfectSquare(5*n*n + 4) or isPerfectSquare(5*n*n - 4) \r\n",
        "     \r\n",
        "# A utility function to test above functions \r\n",
        "for i in range(1,11): \r\n",
        "     if (isFibonacci(i) == True): \r\n",
        "         print  (i,\" is a Fibonacci Number\")\r\n",
        "     else: \r\n",
        "         print (i,\" is a not Fibonacci Number \")"
      ],
      "execution_count": null,
      "outputs": [
        {
          "output_type": "stream",
          "text": [
            "1  is a Fibonacci Number\n",
            "2  is a Fibonacci Number\n",
            "3  is a Fibonacci Number\n",
            "4  is a not Fibonacci Number \n",
            "5  is a Fibonacci Number\n",
            "6  is a not Fibonacci Number \n",
            "7  is a not Fibonacci Number \n",
            "8  is a Fibonacci Number\n",
            "9  is a not Fibonacci Number \n",
            "10  is a not Fibonacci Number \n"
          ],
          "name": "stdout"
        }
      ]
    },
    {
      "cell_type": "code",
      "metadata": {
        "colab": {
          "base_uri": "https://localhost:8080/"
        },
        "id": "iykCNk9dnxLH",
        "outputId": "413bd7f2-c6a2-4a6d-8ca2-0c78288a1f45"
      },
      "source": [
        "def squaresum(n) : \r\n",
        "  \r\n",
        "    # Iterate i from 1  \r\n",
        "    # and n finding  \r\n",
        "    # square of i and \r\n",
        "    # add to sum. \r\n",
        "    sm = 0\r\n",
        "    for i in range(1, n+1) : \r\n",
        "        sm = sm + (i * i) \r\n",
        "      \r\n",
        "    return sm \r\n",
        "  \r\n",
        "# Driven Program \r\n",
        "n = 4\r\n",
        "print(squaresum(n)) "
      ],
      "execution_count": null,
      "outputs": [
        {
          "output_type": "stream",
          "text": [
            "30\n"
          ],
          "name": "stdout"
        }
      ]
    },
    {
      "cell_type": "code",
      "metadata": {
        "colab": {
          "base_uri": "https://localhost:8080/"
        },
        "id": "piMTe6NPqkcX",
        "outputId": "e36b6550-574f-40bb-b271-df098c646037"
      },
      "source": [
        "def sumOfSeries(n): \r\n",
        "    sum = 0\r\n",
        "    for i in range(1, n+1): \r\n",
        "        sum +=i*i*i \r\n",
        "          \r\n",
        "    return sum\r\n",
        "  \r\n",
        "   \r\n",
        "# Driver Function \r\n",
        "n = 5\r\n",
        "print(sumOfSeries(n)) "
      ],
      "execution_count": null,
      "outputs": [
        {
          "output_type": "stream",
          "text": [
            "225\n"
          ],
          "name": "stdout"
        }
      ]
    },
    {
      "cell_type": "code",
      "metadata": {
        "colab": {
          "base_uri": "https://localhost:8080/"
        },
        "id": "5-2dPriHsuyD",
        "outputId": "1ccbe285-069d-4f38-e6db-28fcd5f5c9d1"
      },
      "source": [
        "def largest(arr,n): \r\n",
        "  \r\n",
        "    # Initialize maximum element \r\n",
        "    max = arr[0] \r\n",
        "  \r\n",
        "    # Traverse array elements from second \r\n",
        "    # and compare every element with  \r\n",
        "    # current max \r\n",
        "    for i in range(1, n): \r\n",
        "        if arr[i] > max: \r\n",
        "            max = arr[i] \r\n",
        "    return max\r\n",
        "  \r\n",
        "# Driver Code \r\n",
        "arr = [10, 324, 45, 90, 9808] \r\n",
        "n = len(arr) \r\n",
        "Ans = largest(arr,n) \r\n",
        "print (\"Largest in given array is\",Ans) "
      ],
      "execution_count": null,
      "outputs": [
        {
          "output_type": "stream",
          "text": [
            "Largest in given array is 9808\n"
          ],
          "name": "stdout"
        }
      ]
    },
    {
      "cell_type": "code",
      "metadata": {
        "id": "aF3rFdkUtpQx",
        "colab": {
          "base_uri": "https://localhost:8080/"
        },
        "outputId": "5e53b9c6-1eb3-457d-ba5e-ee7b5f3e4d18"
      },
      "source": [
        "# Find remainder of arr[0] * arr[1] \r\n",
        "# * .. * arr[n-1] \r\n",
        "def findremainder(arr, lens, n): \r\n",
        "    mul = 1\r\n",
        "  \r\n",
        "    # find the individual \r\n",
        "    # remainder and  \r\n",
        "    # multiple with mul. \r\n",
        "    for i in range(lens):  \r\n",
        "        mul = (mul * (arr[i] % n)) % n \r\n",
        "      \r\n",
        "    return mul % n \r\n",
        "  \r\n",
        "# Driven code \r\n",
        "arr = [ 100, 10, 5, 25, 35, 14 ] \r\n",
        "lens = len(arr) \r\n",
        "n = 11\r\n",
        "  \r\n",
        "# print the remainder \r\n",
        "# of after multiple \r\n",
        "# all the numbers \r\n",
        "print( findremainder(arr, lens, n))"
      ],
      "execution_count": null,
      "outputs": [
        {
          "output_type": "stream",
          "text": [
            "9\n"
          ],
          "name": "stdout"
        }
      ]
    },
    {
      "cell_type": "code",
      "metadata": {
        "colab": {
          "base_uri": "https://localhost:8080/"
        },
        "id": "qClK_JECUxX0",
        "outputId": "862d843f-f513-4303-bd99-74857195800f"
      },
      "source": [
        "# Swap function\r\n",
        "def swapList(newList):\r\n",
        "    size = len(newList)\r\n",
        "     \r\n",
        "    # Swapping \r\n",
        "    temp = newList[0]\r\n",
        "    newList[0] = newList[size - 1]\r\n",
        "    newList[size - 1] = temp\r\n",
        "     \r\n",
        "    return newList\r\n",
        "     \r\n",
        "# Driver code\r\n",
        "newList = [12, 35, 9, 56, 24]\r\n",
        " \r\n",
        "print(swapList(newList))"
      ],
      "execution_count": null,
      "outputs": [
        {
          "output_type": "stream",
          "text": [
            "[24, 35, 9, 56, 12]\n"
          ],
          "name": "stdout"
        }
      ]
    },
    {
      "cell_type": "code",
      "metadata": {
        "colab": {
          "base_uri": "https://localhost:8080/"
        },
        "id": "H4IRHcWWawLj",
        "outputId": "694b31ef-e108-4d06-e4e3-3f4f7b6cc801"
      },
      "source": [
        "# Python program to find sum of elements in list\r\n",
        "total = 0\r\n",
        " \r\n",
        "# creating a list\r\n",
        "list1 = [11, 5, 17, 18, 23] \r\n",
        " \r\n",
        "# Iterate each element in list\r\n",
        "# and add them in variale total\r\n",
        "for ele in range(0, len(list1)):\r\n",
        "    total = total + list1[ele]\r\n",
        " \r\n",
        "# printing total value\r\n",
        "print(\"Sum of all elements in given list: \", total)"
      ],
      "execution_count": null,
      "outputs": [
        {
          "output_type": "stream",
          "text": [
            "Sum of all elements in given list:  74\n"
          ],
          "name": "stdout"
        }
      ]
    },
    {
      "cell_type": "code",
      "metadata": {
        "colab": {
          "base_uri": "https://localhost:8080/"
        },
        "id": "g3poxVpkdd85",
        "outputId": "727de053-27e5-461c-e24a-36097313b55e"
      },
      "source": [
        "# Function returns N largest elements \r\n",
        "def Nmaxelements(list1, N): \r\n",
        "    final_list = [] \r\n",
        "  \r\n",
        "    for i in range(0, N):  \r\n",
        "        max1 = 0\r\n",
        "          \r\n",
        "        for j in range(len(list1)):      \r\n",
        "            if list1[j] > max1: \r\n",
        "                max1 = list1[j]; \r\n",
        "                  \r\n",
        "        list1.remove(max1); \r\n",
        "        final_list.append(max1) \r\n",
        "          \r\n",
        "    print(final_list) \r\n",
        "  \r\n",
        "# Driver code \r\n",
        "list1 = [2, 6, 41, 85, 0, 3, 7, 6, 10] \r\n",
        "N = 2\r\n",
        "  \r\n",
        "# Calling the function \r\n",
        "Nmaxelements(list1, N)"
      ],
      "execution_count": null,
      "outputs": [
        {
          "output_type": "stream",
          "text": [
            "[85, 41]\n"
          ],
          "name": "stdout"
        }
      ]
    },
    {
      "cell_type": "code",
      "metadata": {
        "id": "w7-S3aeJhTNs",
        "colab": {
          "base_uri": "https://localhost:8080/"
        },
        "outputId": "40f42b6e-2c35-4932-a970-cea2a8447fb6"
      },
      "source": [
        "# creating a list \r\n",
        "list1 = [11, 5, 17, 18, 23, 50]  \r\n",
        "  \r\n",
        "# Iterate each element in list \r\n",
        "# and add them in variale total \r\n",
        "for ele in list1: \r\n",
        "    if ele % 2 == 0: \r\n",
        "        list1.remove(ele) \r\n",
        "  \r\n",
        "# printing modified list \r\n",
        "print(\"New list after removing all even numbers: \", list1) "
      ],
      "execution_count": null,
      "outputs": [
        {
          "output_type": "stream",
          "text": [
            "New list after removing all even numbers:  [11, 5, 17, 23]\n"
          ],
          "name": "stdout"
        }
      ]
    },
    {
      "cell_type": "code",
      "metadata": {
        "colab": {
          "base_uri": "https://localhost:8080/"
        },
        "id": "pFg_02LSbNYH",
        "outputId": "09068876-da2c-431c-c86f-e7e65fcc8bf9"
      },
      "source": [
        "# 3x3 matrix\r\n",
        "X = [[12,7,3],\r\n",
        "    [4 ,5,6],\r\n",
        "    [7 ,8,9]]\r\n",
        "# 3x4 matrix\r\n",
        "Y = [[5,8,1,2],\r\n",
        "    [6,7,3,0],\r\n",
        "    [4,5,9,1]]\r\n",
        "# result is 3x4\r\n",
        "result = [[0,0,0,0],\r\n",
        "         [0,0,0,0],\r\n",
        "         [0,0,0,0]]\r\n",
        "\r\n",
        "# iterate through rows of X\r\n",
        "for i in range(len(X)):\r\n",
        "   # iterate through columns of Y\r\n",
        "   for j in range(len(Y[0])):\r\n",
        "       # iterate through rows of Y\r\n",
        "       for k in range(len(Y)):\r\n",
        "           result[i][j] += X[i][k] * Y[k][j]\r\n",
        "\r\n",
        "for r in result:\r\n",
        "   print(r)"
      ],
      "execution_count": 1,
      "outputs": [
        {
          "output_type": "stream",
          "text": [
            "[114, 160, 60, 27]\n",
            "[74, 97, 73, 14]\n",
            "[119, 157, 112, 23]\n"
          ],
          "name": "stdout"
        }
      ]
    },
    {
      "cell_type": "code",
      "metadata": {
        "colab": {
          "base_uri": "https://localhost:8080/"
        },
        "id": "AhWrjhrYb0sT",
        "outputId": "1638306d-ec01-4e2f-ff47-b50461defb3b"
      },
      "source": [
        "# importing numpy as np \r\n",
        "import numpy as np \r\n",
        "  \r\n",
        "  \r\n",
        "# creating first matrix \r\n",
        "A = np.array([[1, 2], [3, 4]]) \r\n",
        "  \r\n",
        "# creating second matrix \r\n",
        "B = np.array([[4, 5], [6, 7]]) \r\n",
        "  \r\n",
        "print(\"Printing elements of first matrix\") \r\n",
        "print(A) \r\n",
        "print(\"Printing elements of second matrix\") \r\n",
        "print(B) \r\n",
        "  \r\n",
        "# adding two matrix \r\n",
        "print(\"Addition of two matrix\") \r\n",
        "print(np.add(A, B))"
      ],
      "execution_count": 2,
      "outputs": [
        {
          "output_type": "stream",
          "text": [
            "Printing elements of first matrix\n",
            "[[1 2]\n",
            " [3 4]]\n",
            "Printing elements of second matrix\n",
            "[[4 5]\n",
            " [6 7]]\n",
            "Addition of two matrix\n",
            "[[ 5  7]\n",
            " [ 9 11]]\n"
          ],
          "name": "stdout"
        }
      ]
    },
    {
      "cell_type": "code",
      "metadata": {
        "colab": {
          "base_uri": "https://localhost:8080/"
        },
        "id": "5aOpgSNkb9Su",
        "outputId": "345ad725-bde9-410c-f887-08cb75f8df88"
      },
      "source": [
        "# creating first matrix \r\n",
        "A = np.array([[1, 2], [3, 4]]) \r\n",
        "  \r\n",
        "# creating second matrix \r\n",
        "B = np.array([[4, 5], [6, 7]]) \r\n",
        "  \r\n",
        "print(\"Printing elements of first matrix\") \r\n",
        "print(A) \r\n",
        "print(\"Printing elements of second matrix\") \r\n",
        "print(B) \r\n",
        "  \r\n",
        "# subtracting two matrix \r\n",
        "print(\"Subtraction of two matrix\") \r\n",
        "print(np.subtract(A, B))"
      ],
      "execution_count": 3,
      "outputs": [
        {
          "output_type": "stream",
          "text": [
            "Printing elements of first matrix\n",
            "[[1 2]\n",
            " [3 4]]\n",
            "Printing elements of second matrix\n",
            "[[4 5]\n",
            " [6 7]]\n",
            "Subtraction of two matrix\n",
            "[[-3 -3]\n",
            " [-3 -3]]\n"
          ],
          "name": "stdout"
        }
      ]
    },
    {
      "cell_type": "code",
      "metadata": {
        "colab": {
          "base_uri": "https://localhost:8080/"
        },
        "id": "laQbmodxeKLJ",
        "outputId": "5c7eb44a-cf60-4624-f399-bd0e987acee3"
      },
      "source": [
        "# initializing N \r\n",
        "N = 4\r\n",
        "  \r\n",
        "# printing dimension \r\n",
        "print(\"The dimension : \" + str(N)) \r\n",
        "  \r\n",
        "# using list comprehension \r\n",
        "# matrix creation of n * n \r\n",
        "res = [list(range(1 + N * i, 1 + N * (i + 1))) \r\n",
        "                            for i in range(N)] \r\n",
        "  \r\n",
        "# print result \r\n",
        "print(\"The created matrix of N * N: \" + str(res)) "
      ],
      "execution_count": 5,
      "outputs": [
        {
          "output_type": "stream",
          "text": [
            "The dimension : 4\n",
            "The created matrix of N * N: [[1, 2, 3, 4], [5, 6, 7, 8], [9, 10, 11, 12], [13, 14, 15, 16]]\n"
          ],
          "name": "stdout"
        }
      ]
    },
    {
      "cell_type": "code",
      "metadata": {
        "colab": {
          "base_uri": "https://localhost:8080/"
        },
        "id": "VgYD1yoqeRA0",
        "outputId": "e01f96f2-f4ec-4747-d51d-239ab489bdf2"
      },
      "source": [
        "# function which return reverse of a string\r\n",
        " \r\n",
        "def isPalindrome(s):\r\n",
        "    return s == s[::-1]\r\n",
        " \r\n",
        " \r\n",
        "# Driver code\r\n",
        "s = \"malayalam\"\r\n",
        "ans = isPalindrome(s)\r\n",
        " \r\n",
        "if ans:\r\n",
        "    print(\"Yes\")\r\n",
        "else:\r\n",
        "    print(\"No\")"
      ],
      "execution_count": 6,
      "outputs": [
        {
          "output_type": "stream",
          "text": [
            "Yes\n"
          ],
          "name": "stdout"
        }
      ]
    },
    {
      "cell_type": "code",
      "metadata": {
        "colab": {
          "base_uri": "https://localhost:8080/"
        },
        "id": "fGt6kPfyf-U-",
        "outputId": "42db6802-e63b-4a5a-ff34-08c3813c94e2"
      },
      "source": [
        "# Function to reverse words of string  \r\n",
        "  \r\n",
        "def rev_sentence(sentence):  \r\n",
        "  \r\n",
        "    # first split the string into words  \r\n",
        "    words = sentence.split(' ')  \r\n",
        "  \r\n",
        "    # then reverse the split string list and join using space  \r\n",
        "    reverse_sentence = ' '.join(reversed(words))  \r\n",
        "  \r\n",
        "    # finally return the joined string  \r\n",
        "    return reverse_sentence  \r\n",
        "  \r\n",
        "if __name__ == \"__main__\":  \r\n",
        "    input = 'hello World! 123 ++++'\r\n",
        "    print (rev_sentence(input)) "
      ],
      "execution_count": 7,
      "outputs": [
        {
          "output_type": "stream",
          "text": [
            "++++ 123 World! hello\n"
          ],
          "name": "stdout"
        }
      ]
    },
    {
      "cell_type": "code",
      "metadata": {
        "colab": {
          "base_uri": "https://localhost:8080/"
        },
        "id": "nR5-TQJ6hcDl",
        "outputId": "4b8ff9b4-4283-434d-d23e-bc33c75ac9bd"
      },
      "source": [
        "def split_string(string): \r\n",
        "  \r\n",
        "    # Split the string based on space delimiter \r\n",
        "    list_string = string.split(' ') \r\n",
        "      \r\n",
        "    return list_string \r\n",
        "  \r\n",
        "def join_string(list_string): \r\n",
        "  \r\n",
        "    # Join the string based on '-' delimiter \r\n",
        "    string = '-'.join(list_string) \r\n",
        "      \r\n",
        "    return string \r\n",
        "  \r\n",
        "# Driver Function \r\n",
        "if __name__ == '__main__': \r\n",
        "    string = 'WORLD! HELLO 123+321'\r\n",
        "      \r\n",
        "    # Splitting a string \r\n",
        "    list_string = split_string(string) \r\n",
        "    print(list_string) \r\n",
        "  \r\n",
        "     # Join list of strings into one \r\n",
        "    new_string = join_string(list_string) \r\n",
        "    print(new_string)"
      ],
      "execution_count": 10,
      "outputs": [
        {
          "output_type": "stream",
          "text": [
            "['WORLD!', 'HELLO', '123+321']\n",
            "WORLD!-HELLO-123+321\n"
          ],
          "name": "stdout"
        }
      ]
    },
    {
      "cell_type": "code",
      "metadata": {
        "colab": {
          "base_uri": "https://localhost:8080/"
        },
        "id": "cu5smXw_hrAN",
        "outputId": "be918892-b680-4cbb-c9e6-94bac8ca4859"
      },
      "source": [
        "# Python 3 program for recursive binary search.\r\n",
        "# Modifications needed for the older Python 2 are found in comments.\r\n",
        " \r\n",
        "# Returns index of x in arr if present, else -1\r\n",
        "def binary_search(arr, low, high, x):\r\n",
        " \r\n",
        "    # Check base case\r\n",
        "    if high >= low:\r\n",
        " \r\n",
        "        mid = (high + low) // 2\r\n",
        " \r\n",
        "        # If element is present at the middle itself\r\n",
        "        if arr[mid] == x:\r\n",
        "            return mid\r\n",
        " \r\n",
        "        # If element is smaller than mid, then it can only\r\n",
        "        # be present in left subarray\r\n",
        "        elif arr[mid] > x:\r\n",
        "            return binary_search(arr, low, mid - 1, x)\r\n",
        " \r\n",
        "        # Else the element can only be present in right subarray\r\n",
        "        else:\r\n",
        "            return binary_search(arr, mid + 1, high, x)\r\n",
        " \r\n",
        "    else:\r\n",
        "        # Element is not present in the array\r\n",
        "        return -1\r\n",
        " \r\n",
        "# Test array\r\n",
        "arr = [ 2, 3, 4, 10, 40 ]\r\n",
        "x = 10\r\n",
        " \r\n",
        "# Function call\r\n",
        "result = binary_search(arr, 0, len(arr)-1, x)\r\n",
        " \r\n",
        "if result != -1:\r\n",
        "    print(\"Element is present at index\", str(result))\r\n",
        "else:\r\n",
        "    print(\"Element is not present in array\")"
      ],
      "execution_count": 12,
      "outputs": [
        {
          "output_type": "stream",
          "text": [
            "Element is present at index 3\n"
          ],
          "name": "stdout"
        }
      ]
    },
    {
      "cell_type": "code",
      "metadata": {
        "colab": {
          "base_uri": "https://localhost:8080/"
        },
        "id": "Kmoj9VI_8rfM",
        "outputId": "6914da50-2af4-4cf5-aff3-a3179d3f18a9"
      },
      "source": [
        "def binary_search(arr, x):\r\n",
        "    low = 0\r\n",
        "    high = len(arr) - 1\r\n",
        "    mid = 0\r\n",
        " \r\n",
        "    while low <= high:\r\n",
        " \r\n",
        "        mid = (high + low) // 2\r\n",
        " \r\n",
        "        # If x is greater, ignore left half\r\n",
        "        if arr[mid] < x:\r\n",
        "            low = mid + 1\r\n",
        " \r\n",
        "        # If x is smaller, ignore right half\r\n",
        "        elif arr[mid] > x:\r\n",
        "            high = mid - 1\r\n",
        " \r\n",
        "        # means x is present at mid\r\n",
        "        else:\r\n",
        "            return mid\r\n",
        " \r\n",
        "    # If we reach here, then the element was not present\r\n",
        "    return -1\r\n",
        " \r\n",
        " \r\n",
        "# Test array\r\n",
        "arr = [ 2, 3, 4, 10, 40 ]\r\n",
        "x = 10\r\n",
        " \r\n",
        "# Function call\r\n",
        "result = binary_search(arr, x)\r\n",
        " \r\n",
        "if result != -1:\r\n",
        "    print(\"Element is present at index\", str(result))\r\n",
        "else:\r\n",
        "    print(\"Element is not present in array\")"
      ],
      "execution_count": 13,
      "outputs": [
        {
          "output_type": "stream",
          "text": [
            "Element is present at index 3\n"
          ],
          "name": "stdout"
        }
      ]
    },
    {
      "cell_type": "code",
      "metadata": {
        "colab": {
          "base_uri": "https://localhost:8080/"
        },
        "id": "5oJyr9Wq-coO",
        "outputId": "301f2835-929e-457a-a72a-ec2a359fc768"
      },
      "source": [
        "def insertionSort(arr): \r\n",
        "  \r\n",
        "    # Traverse through 1 to len(arr) \r\n",
        "    for i in range(1, len(arr)): \r\n",
        "  \r\n",
        "        key = arr[i] \r\n",
        "  \r\n",
        "        # Move elements of arr[0..i-1], that are \r\n",
        "        # greater than key, to one position ahead \r\n",
        "        # of their current position \r\n",
        "        j = i-1\r\n",
        "        while j >=0 and key < arr[j] : \r\n",
        "                arr[j+1] = arr[j] \r\n",
        "                j -= 1\r\n",
        "        arr[j+1] = key \r\n",
        "  \r\n",
        "  \r\n",
        "# Driver code to test above \r\n",
        "arr = [12, 11, 13, 5, 6] \r\n",
        "insertionSort(arr) \r\n",
        "print (\"Sorted array is:\") \r\n",
        "for i in range(len(arr)): \r\n",
        "    print (\"%d\" %arr[i]) "
      ],
      "execution_count": 14,
      "outputs": [
        {
          "output_type": "stream",
          "text": [
            "Sorted array is:\n",
            "5\n",
            "6\n",
            "11\n",
            "12\n",
            "13\n"
          ],
          "name": "stdout"
        }
      ]
    },
    {
      "cell_type": "code",
      "metadata": {
        "colab": {
          "base_uri": "https://localhost:8080/"
        },
        "id": "5kSgdOnF-ttA",
        "outputId": "f5cf8266-93ab-4409-a687-175f0c2ba88f"
      },
      "source": [
        "# Python program for implementation of Quicksort Sort \r\n",
        "  \r\n",
        "# This function takes last element as pivot, places \r\n",
        "# the pivot element at its correct position in sorted \r\n",
        "# array, and places all smaller (smaller than pivot) \r\n",
        "# to left of pivot and all greater elements to right \r\n",
        "# of pivot \r\n",
        "  \r\n",
        "  \r\n",
        "def partition(arr, low, high): \r\n",
        "    i = (low-1)         # index of smaller element \r\n",
        "    pivot = arr[high]     # pivot \r\n",
        "  \r\n",
        "    for j in range(low, high): \r\n",
        "  \r\n",
        "        # If current element is smaller than or \r\n",
        "        # equal to pivot \r\n",
        "        if arr[j] <= pivot: \r\n",
        "  \r\n",
        "            # increment index of smaller element \r\n",
        "            i = i+1\r\n",
        "            arr[i], arr[j] = arr[j], arr[i] \r\n",
        "  \r\n",
        "    arr[i+1], arr[high] = arr[high], arr[i+1] \r\n",
        "    return (i+1) \r\n",
        "  \r\n",
        "# The main function that implements QuickSort \r\n",
        "# arr[] --> Array to be sorted, \r\n",
        "# low  --> Starting index, \r\n",
        "# high  --> Ending index \r\n",
        "  \r\n",
        "# Function to do Quick sort \r\n",
        "  \r\n",
        "  \r\n",
        "def quickSort(arr, low, high): \r\n",
        "    if len(arr) == 1: \r\n",
        "        return arr \r\n",
        "    if low < high: \r\n",
        "  \r\n",
        "        # pi is partitioning index, arr[p] is now \r\n",
        "        # at right place \r\n",
        "        pi = partition(arr, low, high) \r\n",
        "  \r\n",
        "        # Separately sort elements before \r\n",
        "        # partition and after partition \r\n",
        "        quickSort(arr, low, pi-1) \r\n",
        "        quickSort(arr, pi+1, high) \r\n",
        "  \r\n",
        "  \r\n",
        "# Driver code to test above \r\n",
        "arr = [10, 7, 8, 9, 1, 5] \r\n",
        "n = len(arr) \r\n",
        "quickSort(arr, 0, n-1) \r\n",
        "print(\"Sorted array is:\") \r\n",
        "for i in range(n): \r\n",
        "    print(\"%d\" % arr[i]),"
      ],
      "execution_count": 15,
      "outputs": [
        {
          "output_type": "stream",
          "text": [
            "Sorted array is:\n",
            "1\n",
            "5\n",
            "7\n",
            "8\n",
            "9\n",
            "10\n"
          ],
          "name": "stdout"
        }
      ]
    },
    {
      "cell_type": "code",
      "metadata": {
        "colab": {
          "base_uri": "https://localhost:8080/"
        },
        "id": "rG6D41J_B6k2",
        "outputId": "399838f7-63d1-49ea-ca38-be4e51a4772e"
      },
      "source": [
        "def bubbleSort(ar):\r\n",
        "   n = len(arr)\r\n",
        "   # Traverse through all array elements\r\n",
        "   for i in range(n):\r\n",
        "   # Last i elements are already in correct position\r\n",
        "      for j in range(0, n-i-1):\r\n",
        "      # Swap if the element found is greater than the next element\r\n",
        "        if ar[j] > ar[j+1] :\r\n",
        "         ar[j], ar[j+1] = ar[j+1], ar[j]\r\n",
        "# Driver code to test above\r\n",
        "ar = ['t','u','t','o','r','i','a','l']\r\n",
        "bubbleSort(ar)\r\n",
        "print (\"Sorted array is:\")\r\n",
        "for i in range(len(ar)):\r\n",
        "   print (ar[i])"
      ],
      "execution_count": 18,
      "outputs": [
        {
          "output_type": "stream",
          "text": [
            "Sorted array is:\n",
            "i\n",
            "o\n",
            "r\n",
            "t\n",
            "t\n",
            "u\n",
            "a\n",
            "l\n"
          ],
          "name": "stdout"
        }
      ]
    }
  ]
}