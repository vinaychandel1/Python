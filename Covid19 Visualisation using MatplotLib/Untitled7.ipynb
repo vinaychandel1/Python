{
  "nbformat": 4,
  "nbformat_minor": 0,
  "metadata": {
    "colab": {
      "name": "Untitled7.ipynb",
      "provenance": []
    },
    "kernelspec": {
      "name": "python3",
      "display_name": "Python 3"
    }
  },
  "cells": [
    {
      "cell_type": "code",
      "metadata": {
        "id": "2WIad4a1IM3T"
      },
      "source": [
        "import matplotlib.pyplot as plt\r\n",
        "import covid\r\n",
        "#CREATING INSTANCE\r\n",
        "cov = covid.Covid()\r\n",
        "#GENERATING DATA\r\n",
        "name = input('enter the country name ')\r\n",
        "virusdata = cov.get_status_by_country_name(name)\r\n",
        "#ACTIVE\r\n",
        "active = virusdata['active']\r\n",
        "#RECOVERED\r\n",
        "recover = virusdata['recovered']\r\n",
        "#DEATHS\r\n",
        "deaths = virusdata['deaths']\r\n",
        "#PLOTTING THE PIE PLOT\r\n",
        "plt.pie([active,recover,deaths],labels=['active','recovered','deaths'],colors = ['b','g','r'],explode=(0,0,0.2),startangle = 180,autopct = '%1.1f%%',shadow=True)\r\n",
        "#DISPLAYING THE PLOT\r\n",
        "plt.title(name)\r\n",
        "plt.legend()\r\n",
        "plt.show()"
      ],
      "execution_count": null,
      "outputs": []
    },
    {
      "cell_type": "code",
      "metadata": {
        "colab": {
          "base_uri": "https://localhost:8080/"
        },
        "id": "wgv625gnJgmh",
        "outputId": "4c13170a-348c-4962-943b-5ad047f41160"
      },
      "source": [
        "pip install covid"
      ],
      "execution_count": 5,
      "outputs": [
        {
          "output_type": "stream",
          "text": [
            "Collecting covid\n",
            "  Downloading https://files.pythonhosted.org/packages/70/c0/f90223048a7657af97c013234a25243dd13b3ddcfa9a522ab10556502c97/covid-2.4.0.tar.gz\n",
            "  Installing build dependencies ... \u001b[?25l\u001b[?25hdone\n",
            "  Getting requirements to build wheel ... \u001b[?25l\u001b[?25hdone\n",
            "    Preparing wheel metadata ... \u001b[?25l\u001b[?25hdone\n",
            "Collecting pydantic\n",
            "\u001b[?25l  Downloading https://files.pythonhosted.org/packages/52/ea/fae9f69b6e56407961318e8c73e203097a97c7bd71b30bf1b4f5eb448f28/pydantic-1.7.3-cp36-cp36m-manylinux2014_x86_64.whl (9.2MB)\n",
            "\u001b[K     |████████████████████████████████| 9.2MB 5.4MB/s \n",
            "\u001b[?25hRequirement already satisfied: beautifulsoup4 in /usr/local/lib/python3.6/dist-packages (from covid) (4.6.3)\n",
            "Collecting typer\n",
            "  Downloading https://files.pythonhosted.org/packages/90/34/d138832f6945432c638f32137e6c79a3b682f06a63c488dcfaca6b166c64/typer-0.3.2-py3-none-any.whl\n",
            "Requirement already satisfied: requests in /usr/local/lib/python3.6/dist-packages (from covid) (2.23.0)\n",
            "Requirement already satisfied: dataclasses>=0.6; python_version < \"3.7\" in /usr/local/lib/python3.6/dist-packages (from pydantic->covid) (0.8)\n",
            "Requirement already satisfied: click<7.2.0,>=7.1.1 in /usr/local/lib/python3.6/dist-packages (from typer->covid) (7.1.2)\n",
            "Requirement already satisfied: certifi>=2017.4.17 in /usr/local/lib/python3.6/dist-packages (from requests->covid) (2020.12.5)\n",
            "Requirement already satisfied: idna<3,>=2.5 in /usr/local/lib/python3.6/dist-packages (from requests->covid) (2.10)\n",
            "Requirement already satisfied: urllib3!=1.25.0,!=1.25.1,<1.26,>=1.21.1 in /usr/local/lib/python3.6/dist-packages (from requests->covid) (1.24.3)\n",
            "Requirement already satisfied: chardet<4,>=3.0.2 in /usr/local/lib/python3.6/dist-packages (from requests->covid) (3.0.4)\n",
            "Building wheels for collected packages: covid\n",
            "  Building wheel for covid (PEP 517) ... \u001b[?25l\u001b[?25hdone\n",
            "  Created wheel for covid: filename=covid-2.4.0-cp36-none-any.whl size=9609 sha256=26198da3fc003c236d399c422aab26b41c7f9e29ac2e5f2688e4f7ffc2ae545a\n",
            "  Stored in directory: /root/.cache/pip/wheels/57/30/a3/102c5b090ee109cc5e6c6bcc95f579ee81a829d9dc9ee42e3c\n",
            "Successfully built covid\n",
            "Installing collected packages: pydantic, typer, covid\n",
            "Successfully installed covid-2.4.0 pydantic-1.7.3 typer-0.3.2\n"
          ],
          "name": "stdout"
        }
      ]
    },
    {
      "cell_type": "code",
      "metadata": {
        "colab": {
          "base_uri": "https://localhost:8080/",
          "height": 281
        },
        "id": "LiJzvNVeJrLm",
        "outputId": "a1790cda-3402-4f2a-9172-ae2e5b4ddf5a"
      },
      "source": [
        "import covid\r\n",
        "import matplotlib.pyplot as plt\r\n",
        "#CREATING INSTANCE\r\n",
        "cov = covid.Covid()\r\n",
        "#GENERATING DATA\r\n",
        "name = input('enter the country name ')\r\n",
        "virusdata = cov.get_status_by_country_name(name)\r\n",
        "#ACTIVE\r\n",
        "active = virusdata['active']\r\n",
        "#RECOVERED\r\n",
        "recover = virusdata['recovered']\r\n",
        "#DEATHS\r\n",
        "deaths = virusdata['deaths']\r\n",
        "#PLOTTING THE PIE PLOT\r\n",
        "plt.pie([active,recover,deaths],labels=['active','recovered','deaths'],colors = ['b','g','r'],explode=(0,0,0.2),startangle = 180,autopct = '%1.1f%%',shadow=True)\r\n",
        "#DISPLAYING THE PLOT\r\n",
        "plt.title(name)\r\n",
        "plt.legend()\r\n",
        "plt.show()"
      ],
      "execution_count": 15,
      "outputs": [
        {
          "output_type": "stream",
          "text": [
            "enter the country name italy\n"
          ],
          "name": "stdout"
        },
        {
          "output_type": "display_data",
          "data": {
            "image/png": "[encoded data removed]",
            "text/plain": [
              "<Figure size 432x288 with 1 Axes>"
            ]
          },
          "metadata": {
            "tags": []
          }
        }
      ]
    }
  ]
}